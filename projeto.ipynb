{
 "cells": [
  {
   "cell_type": "markdown",
   "id": "87b7a447-8dd8-4381-9adf-b48224bab51e",
   "metadata": {},
   "source": [
    "# 1. Recolha e Preparação de dados"
   ]
  },
  {
   "cell_type": "code",
   "execution_count": 1,
   "id": "1e493688-f041-4d08-9856-16e40f3c920d",
   "metadata": {},
   "outputs": [
    {
     "name": "stdout",
     "output_type": "stream",
     "text": [
      "{'_id': ObjectId('6776ac36da6a0c7418441e30'), 'year': 2023, 'month': 8, 'carrier': '9E', 'carrier_name': 'Endeavor Air Inc.', 'airport': 'ABE', 'airport_name': 'Allentown/Bethlehem/Easton, PA: Lehigh Valley International', 'arr_flights': 89.0, 'arr_del15': 13.0, 'carrier_ct': 2.25, 'weather_ct': 1.6, 'nas_ct': 3.16, 'security_ct': 0.0, 'late_aircraft_ct': 5.99, 'arr_cancelled': 2.0, 'arr_diverted': 1.0, 'arr_delay': 1375.0, 'carrier_delay': 71.0, 'weather_delay': 761.0, 'nas_delay': 118.0, 'security_delay': 0.0, 'late_aircraft_delay': 425.0}\n",
      "{'_id': ObjectId('6776ac53da6a0c741846bcc5'), 'Unnamed: 0': 6256560, 'ItinID': 201835057271, 'MktID': 20183505727101, 'MktCoupons': 1, 'Quarter': 3, 'Origin': 'MCO', 'OriginWac': 33, 'Dest': 'BWI', 'DestWac': 35, 'Miles': 787.0, 'ContiguousUSA': 2, 'NumTicketsOrdered': 2.0, 'AirlineCompany': 'WN', 'PricePerTicket': 96.0}\n"
     ]
    }
   ],
   "source": [
    "from pymongo import MongoClient\n",
    "from pyspark.sql import SparkSession\n",
    "from pyspark.sql.functions import *\n",
    "from pyspark.sql import functions as F\n",
    "from pyspark.sql.window import *\n",
    "import pandas as pd\n",
    "import matplotlib.pyplot as plt\n",
    "\n",
    "client = MongoClient('mongodb://mongodb:27017/')\n",
    "db = client.projeto\n",
    "c_atrasos = db.atrasos\n",
    "c_voos = db.voos\n",
    "\n",
    "print(c_atrasos.find_one())\n",
    "print(c_voos.find_one())\n",
    "\n",
    "client.close()"
   ]
  },
  {
   "cell_type": "code",
   "execution_count": 2,
   "id": "34e75117-d379-43cf-95a1-6f10fca62272",
   "metadata": {},
   "outputs": [],
   "source": [
    "spark = SparkSession.builder \\\n",
    "    .appName(\"Voos e atrasos em 2018\") \\\n",
    "    .config(\"spark.mongodb.input.uri\", \"mongodb://mongodb:27017/projeto\") \\\n",
    "    .config(\"spark.mongodb.output.uri\", \"mongodb://mongodb:27017/projeto\") \\\n",
    "    .getOrCreate()\n",
    "\n",
    "df_atrasos = spark.read.format(\"mongo\").option(\"collection\", \"atrasos\").load()\n",
    "df_voos = spark.read.format(\"mongo\").option(\"collection\", \"voos\").load()"
   ]
  },
  {
   "cell_type": "code",
   "execution_count": 3,
   "id": "6b89e595-88fb-404a-9f56-e763eb0608c9",
   "metadata": {},
   "outputs": [
    {
     "name": "stdout",
     "output_type": "stream",
     "text": [
      "root\n",
      " |-- _id: struct (nullable = true)\n",
      " |    |-- oid: string (nullable = true)\n",
      " |-- airport: string (nullable = true)\n",
      " |-- airport_name: string (nullable = true)\n",
      " |-- arr_cancelled: double (nullable = true)\n",
      " |-- arr_del15: double (nullable = true)\n",
      " |-- arr_delay: double (nullable = true)\n",
      " |-- arr_diverted: double (nullable = true)\n",
      " |-- arr_flights: double (nullable = true)\n",
      " |-- carrier: string (nullable = true)\n",
      " |-- carrier_ct: double (nullable = true)\n",
      " |-- carrier_delay: double (nullable = true)\n",
      " |-- carrier_name: string (nullable = true)\n",
      " |-- late_aircraft_ct: double (nullable = true)\n",
      " |-- late_aircraft_delay: double (nullable = true)\n",
      " |-- month: integer (nullable = true)\n",
      " |-- nas_ct: double (nullable = true)\n",
      " |-- nas_delay: double (nullable = true)\n",
      " |-- security_ct: double (nullable = true)\n",
      " |-- security_delay: double (nullable = true)\n",
      " |-- weather_ct: double (nullable = true)\n",
      " |-- weather_delay: double (nullable = true)\n",
      " |-- year: integer (nullable = true)\n",
      "\n",
      "None\n",
      "root\n",
      " |-- AirlineCompany: string (nullable = true)\n",
      " |-- ContiguousUSA: integer (nullable = true)\n",
      " |-- Dest: string (nullable = true)\n",
      " |-- DestWac: integer (nullable = true)\n",
      " |-- ItinID: long (nullable = true)\n",
      " |-- Miles: double (nullable = true)\n",
      " |-- MktCoupons: integer (nullable = true)\n",
      " |-- MktID: long (nullable = true)\n",
      " |-- NumTicketsOrdered: double (nullable = true)\n",
      " |-- Origin: string (nullable = true)\n",
      " |-- OriginWac: integer (nullable = true)\n",
      " |-- PricePerTicket: double (nullable = true)\n",
      " |-- Quarter: integer (nullable = true)\n",
      " |-- Unnamed: 0: integer (nullable = true)\n",
      " |-- _id: struct (nullable = true)\n",
      " |    |-- oid: string (nullable = true)\n",
      "\n",
      "None\n"
     ]
    }
   ],
   "source": [
    "print(df_atrasos.printSchema())\n",
    "print(df_voos.printSchema())"
   ]
  },
  {
   "cell_type": "code",
   "execution_count": 4,
   "id": "c8ec64bf-46ce-492a-8783-7bd573777413",
   "metadata": {},
   "outputs": [
    {
     "name": "stdout",
     "output_type": "stream",
     "text": [
      "+-------+-------------+---------+---------+-----------+------------+-----+----+\n",
      "|airport|arr_cancelled|arr_del15|arr_delay|arr_flights|carrier_name|month|year|\n",
      "+-------+-------------+---------+---------+-----------+------------+-----+----+\n",
      "|      0|            0|        0|        0|          0|           0|    0|   0|\n",
      "+-------+-------------+---------+---------+-----------+------------+-----+----+\n",
      "\n"
     ]
    },
    {
     "data": {
      "text/plain": [
       "5072"
      ]
     },
     "execution_count": 4,
     "metadata": {},
     "output_type": "execute_result"
    }
   ],
   "source": [
    "df_atrasos = df_atrasos.drop(\"carrier\",\"airport_name\",\"carrier_ct\",\"weather_ct\",\"nas_ct\",\"security_ct\",\"late_aircraft_ct\",\"arr_diverted\",\"carrier_delay\",\"weather_delay\",\"nas_delay\",\"security_delay\",\"late_aircraft_delay\", \"_id\")\n",
    "df_atrasos = df_atrasos.filter(df_atrasos[\"year\"] == 2018)\n",
    "df_atrasos = df_atrasos.filter((df_atrasos[\"month\"] >= 7) & (df_atrasos[\"month\"] <= 9))\n",
    "\n",
    "df_atrasos = df_atrasos.dropna()\n",
    "\n",
    "df_atrasos = df_atrasos.dropDuplicates()\n",
    "\n",
    "null_atrasos = df_atrasos.select([count(when(col(c).isNull(), c)).alias(c) for c in df_atrasos.columns])\n",
    "\n",
    "null_atrasos.show()\n",
    "df_atrasos.count()"
   ]
  },
  {
   "cell_type": "code",
   "execution_count": 5,
   "id": "4cda0005-e973-434c-9b0e-fe177b964053",
   "metadata": {},
   "outputs": [
    {
     "name": "stdout",
     "output_type": "stream",
     "text": [
      "+----+-------+-----+------+---------+--------------+-------+\n",
      "|dest|destwac|miles|origin|originwac|priceperticket|quarter|\n",
      "+----+-------+-----+------+---------+--------------+-------+\n",
      "|   0|      0|    0|     0|        0|             0|      0|\n",
      "+----+-------+-----+------+---------+--------------+-------+\n",
      "\n"
     ]
    },
    {
     "data": {
      "text/plain": [
       "229725"
      ]
     },
     "execution_count": 5,
     "metadata": {},
     "output_type": "execute_result"
    }
   ],
   "source": [
    "df_voos = df_voos.drop(\"ItinID\",\"MktID\",\"MktCoupons\",\"ContiguousUSA\",\"NumTicketsOrdered\",\"AirlineCompany\", \"_id\", \"Unnamed: 0\")\n",
    "df_voos = df_voos.toDF(*[col.lower() for col in df_voos.columns])\n",
    "\n",
    "df_voos = df_voos.dropna()\n",
    "\n",
    "df_voos = df_voos.dropDuplicates()\n",
    "\n",
    "null_voos = df_voos.select([count(when(col(c).isNull(), c)).alias(c) for c in df_voos.columns])\n",
    "\n",
    "null_voos.show()\n",
    "df_voos.count()"
   ]
  },
  {
   "cell_type": "code",
   "execution_count": 6,
   "id": "95131e3f-a4a7-4cf6-8430-813a4d4ec565",
   "metadata": {},
   "outputs": [],
   "source": [
    "df_atrasos = df_atrasos.withColumn(\"index\", monotonically_increasing_id())\n",
    "\n",
    "window_spec = Window.orderBy(\"airport\")\n",
    "\n",
    "df_atrasos = df_atrasos.withColumn(\"index\", row_number().over(window_spec) - 1)"
   ]
  },
  {
   "cell_type": "code",
   "execution_count": 7,
   "id": "aa0fafd7-4305-4057-beb5-9965832ab39c",
   "metadata": {},
   "outputs": [
    {
     "name": "stdout",
     "output_type": "stream",
     "text": [
      "root\n",
      " |-- airport: string (nullable = true)\n",
      " |-- arr_cancelled: double (nullable = true)\n",
      " |-- arr_del15: double (nullable = true)\n",
      " |-- arr_delay: double (nullable = true)\n",
      " |-- arr_flights: double (nullable = true)\n",
      " |-- carrier_name: string (nullable = true)\n",
      " |-- month: integer (nullable = true)\n",
      " |-- year: integer (nullable = true)\n",
      " |-- index: integer (nullable = false)\n",
      "\n",
      "None\n",
      "root\n",
      " |-- dest: string (nullable = true)\n",
      " |-- destwac: integer (nullable = true)\n",
      " |-- miles: double (nullable = true)\n",
      " |-- origin: string (nullable = true)\n",
      " |-- originwac: integer (nullable = true)\n",
      " |-- priceperticket: double (nullable = true)\n",
      " |-- quarter: integer (nullable = true)\n",
      "\n",
      "None\n"
     ]
    }
   ],
   "source": [
    "print(df_atrasos.printSchema())\n",
    "print(df_voos.printSchema())"
   ]
  },
  {
   "cell_type": "markdown",
   "id": "c6c9e5d0-d82f-451a-9e3f-fdd01f0871e2",
   "metadata": {},
   "source": [
    "# 2. Análise exploratória"
   ]
  },
  {
   "cell_type": "markdown",
   "id": "7d39694e-da22-4200-8da2-78669a88f571",
   "metadata": {},
   "source": [
    "#### Os cinco aeroportos com mais atrasos de 15+ minutos"
   ]
  },
  {
   "cell_type": "code",
   "execution_count": 8,
   "id": "504e6f5f-8098-4d8d-9cbf-af39024b2525",
   "metadata": {},
   "outputs": [
    {
     "name": "stdout",
     "output_type": "stream",
     "text": [
      "+-------+------------+\n",
      "|airport|total_delays|\n",
      "+-------+------------+\n",
      "|    ORD|     19543.0|\n",
      "|    ATL|     15905.0|\n",
      "|    DFW|     15661.0|\n",
      "|    EWR|     11931.0|\n",
      "|    SFO|     11763.0|\n",
      "+-------+------------+\n",
      "\n"
     ]
    }
   ],
   "source": [
    "top5_delays = (\n",
    "    df_atrasos.groupBy(\"airport\")\n",
    "    .agg(sum(\"arr_del15\").alias(\"total_delays\"))\n",
    "    .orderBy(col(\"total_delays\").desc())\n",
    "    .limit(5)\n",
    ")\n",
    "\n",
    "top5_delays.show()"
   ]
  },
  {
   "cell_type": "code",
   "execution_count": 9,
   "id": "c7c85607-0877-4b1d-bc8f-408edf088f03",
   "metadata": {},
   "outputs": [
    {
     "data": {
      "image/png": "[encoded data removed]",
      "text/plain": [
       "<Figure size 800x500 with 1 Axes>"
      ]
     },
     "metadata": {},
     "output_type": "display_data"
    }
   ],
   "source": [
    "top5_delays_pandas = top5_delays.toPandas()\n",
    "\n",
    "plt.figure(figsize=(8, 5))\n",
    "plt.bar(top5_delays_pandas[\"airport\"], top5_delays_pandas[\"total_delays\"], color=\"skyblue\")\n",
    "plt.xlabel(\"Aeroporto\")\n",
    "plt.ylabel(\"Atrasos (15 minutos ou mais)\")\n",
    "plt.title(\"Top 5 Aeroportos com Mais Atrasos de 15+ mins\")\n",
    "plt.show()"
   ]
  },
  {
   "cell_type": "markdown",
   "id": "cb137426-d707-4fbf-bf0f-3e5186f81ee6",
   "metadata": {},
   "source": [
    "Concluimos então que os aeroportos com maior quantidade de atrasos significativos são: \n",
    "-ORD: Chicago, IL: Chicago O'Hare International\\\n",
    "-ATL: Atlanta, GA: Hartsfield-Jackson Atlanta International\\\n",
    "-DFW: Dallas/Fort Worth, TX: Dallas/Fort Worth International\\\n",
    "-EWR: Newark, NJ: Newark Liberty International\\\n",
    "-SFO: San Francisco, CA: San Francisco International"
   ]
  },
  {
   "cell_type": "markdown",
   "id": "54c3da1b-0cd4-4578-ad50-427884f800c8",
   "metadata": {},
   "source": [
    "Estes atrasos podem dever-se a fatores como alto volume de tráfego, condições climatéricas adversas recorrentes ou a complexidade operacional."
   ]
  },
  {
   "cell_type": "markdown",
   "id": "485d3cf8-5b16-4d1d-9eff-6ce667e177aa",
   "metadata": {},
   "source": [
    "#### Média de preços para os aeroportos com mais atrasos"
   ]
  },
  {
   "cell_type": "markdown",
   "id": "aba7b85a-1596-4ff3-9267-4bdf22dbc921",
   "metadata": {},
   "source": [
    "preço médio dos bilhetes"
   ]
  },
  {
   "cell_type": "code",
   "execution_count": 10,
   "id": "15b11242-d579-4906-85d4-b6660c002433",
   "metadata": {},
   "outputs": [
    {
     "name": "stdout",
     "output_type": "stream",
     "text": [
      "O preço médio dos bilhetes é: 231.92\n"
     ]
    }
   ],
   "source": [
    "preco_medio = df_voos.select(avg(\"PricePerTicket\").alias(\"PrecoMedio\")).collect()[0][\"PrecoMedio\"]\n",
    "\n",
    "print(f\"O preço médio dos bilhetes é: {preco_medio:.2f}\")"
   ]
  },
  {
   "cell_type": "code",
   "execution_count": 11,
   "id": "1db952b8-b783-4732-bced-f00e302f4cb8",
   "metadata": {},
   "outputs": [
    {
     "name": "stdout",
     "output_type": "stream",
     "text": [
      "+----+------------+\n",
      "|Dest|AveragePrice|\n",
      "+----+------------+\n",
      "| EWR|      277.48|\n",
      "| DFW|      259.76|\n",
      "| SFO|      294.81|\n",
      "| ATL|      238.68|\n",
      "| ORD|      249.66|\n",
      "+----+------------+\n",
      "\n"
     ]
    }
   ],
   "source": [
    "most_delayed_airports = [row[\"airport\"] for row in top5_delays.collect()]\n",
    "\n",
    "filtered_df = df_voos.filter(df_voos[\"Dest\"].isin(most_delayed_airports))\n",
    "\n",
    "average_prices = (\n",
    "    filtered_df.groupBy(\"Dest\")\n",
    "    .agg(round(avg(\"PricePerTicket\"), 2).alias(\"AveragePrice\"))\n",
    ")\n",
    "\n",
    "average_prices.show()"
   ]
  },
  {
   "cell_type": "markdown",
   "id": "038db8d1-e9dd-47da-b652-8fb4cf5cdbdf",
   "metadata": {},
   "source": [
    "É possível concluir, que devido à afluência e importância dos aeroportos acima especificados, mesmo apresentando bastantes atrasos significativos, os preços mantêm-se acima da média"
   ]
  },
  {
   "cell_type": "markdown",
   "id": "d88bba4b-83ec-4bd7-9d7b-08d01b9504a5",
   "metadata": {},
   "source": [
    "#### Aeroportos com mais voos cancelados por percentagem"
   ]
  },
  {
   "cell_type": "code",
   "execution_count": 12,
   "id": "2d8fc4e2-b231-4d1c-a375-f77182a3e30f",
   "metadata": {},
   "outputs": [
    {
     "name": "stdout",
     "output_type": "stream",
     "text": [
      "+-------+--------------------+\n",
      "|airport|cancelled_percentage|\n",
      "+-------+--------------------+\n",
      "|    OGS|               14.29|\n",
      "|    PGV|                9.73|\n",
      "|    HVN|                8.98|\n",
      "|    OAJ|                8.55|\n",
      "|    ILM|                8.13|\n",
      "|    EWN|                7.47|\n",
      "|    ASE|                6.19|\n",
      "|    FAY|                5.53|\n",
      "|    DLG|                5.36|\n",
      "|    CHS|                5.33|\n",
      "+-------+--------------------+\n",
      "\n"
     ]
    }
   ],
   "source": [
    "grouped = (\n",
    "    df_atrasos.groupBy(\"airport\")\n",
    "    .agg(\n",
    "        sum(\"arr_flights\").alias(\"total_flights\"),\n",
    "        sum(\"arr_cancelled\").alias(\"total_cancelled\")\n",
    "    )\n",
    ")\n",
    "\n",
    "grouped = grouped.withColumn(\n",
    "    \"cancelled_percentage\",\n",
    "    round((col(\"total_cancelled\") / col(\"total_flights\")) * 100, 2)\n",
    ")\n",
    "\n",
    "top_cancelled = grouped.orderBy(col(\"cancelled_percentage\").desc()).limit(10)\n",
    "\n",
    "top_cancelled.select(\"airport\", \"cancelled_percentage\").show()"
   ]
  },
  {
   "cell_type": "markdown",
   "id": "76bac33c-297f-4a22-a8fe-1dec26f081e2",
   "metadata": {},
   "source": [
    "Como podemos analisar, o aeroporto de Ogdensburg, NY: Ogdensburg International (OGS), apresenta uma percentagem de cancelamentos bastante elevada, comparando com os restantes. Alguns dos motivos pelos quais isto acontece podem ser, o clima adverso, recusos operacionais limitados, dependência de conexões, e baixa demanda, Todos estes fatores tornam aeroportos menores, como o OGS, mais vulneráveis a cancelamentos de voos.\n"
   ]
  },
  {
   "cell_type": "code",
   "execution_count": 13,
   "id": "f1f12259-5096-4eb0-803e-33e7ea04161e",
   "metadata": {},
   "outputs": [
    {
     "name": "stdout",
     "output_type": "stream",
     "text": [
      "+----+---------------------+\n",
      "|Dest|AveragePricePerTicket|\n",
      "+----+---------------------+\n",
      "| DLG|                229.4|\n",
      "| OGS|                89.05|\n",
      "| CHS|               194.78|\n",
      "| FAY|                221.2|\n",
      "| ILM|               254.68|\n",
      "| ASE|                263.0|\n",
      "+----+---------------------+\n",
      "\n"
     ]
    }
   ],
   "source": [
    "top_airports = [row[\"airport\"] for row in top_cancelled.collect()]\n",
    "\n",
    "# Filtrar o DataFrame de voos para incluir apenas os aeroportos mais cancelados\n",
    "filtered_voos = df_voos.filter(col(\"Dest\").isin(top_airports))\n",
    "\n",
    "# Agrupar pelo aeroporto e calcular a média do preço dos bilhetes\n",
    "preco_medio_por_aeroporto = (\n",
    "    filtered_voos.groupBy(\"Dest\")\n",
    "    .agg(round(avg(\"PricePerTicket\"), 2).alias(\"AveragePricePerTicket\"))\n",
    ")\n",
    "\n",
    "# Exibir o resultado\n",
    "preco_medio_por_aeroporto.show()"
   ]
  },
  {
   "cell_type": "markdown",
   "id": "3f812016-0352-49e9-876f-5799e1868808",
   "metadata": {},
   "source": [
    "-ASE: Aspen, CO: Aspen Pitkin County Sardy Field \\\n",
    "-CHS: Charleston, SC: Charleston AFB/International\\\n",
    "-DLG: Dillingham, AK: Dillingham Airport\\\n",
    "-FAY: Fayetteville, NC: Fayetteville Regional/Grannis Field\\\n",
    "-ILM: Wilmington, NC: Wilmington International\\\n",
    "-OGS: Ogdensburg, NY: Ogdensburg International"
   ]
  },
  {
   "cell_type": "markdown",
   "id": "9e9a09b7-224c-490c-8b16-bf04a03b3856",
   "metadata": {},
   "source": [
    "Concluimos assim, para os aeroportos onde encontramos uma correpondencia, que a maior parte mantém um preço bastante próximo da média, devido a todos os motivos refiridos anteriormente"
   ]
  },
  {
   "cell_type": "markdown",
   "id": "b9405c59-d127-4578-a14e-21d87fee0ba4",
   "metadata": {},
   "source": [
    "# 3. Processamento e Análise Avançada:"
   ]
  },
  {
   "cell_type": "markdown",
   "id": "f25ac170-9700-48a5-bb91-796d447864b9",
   "metadata": {},
   "source": [
    "#### Taxa de Cancelamento por Aeroporto vs. Preço Médio por Destino"
   ]
  },
  {
   "cell_type": "code",
   "execution_count": 14,
   "id": "3baf42ff-5db2-4678-94ec-4711c30c87eb",
   "metadata": {},
   "outputs": [
    {
     "name": "stdout",
     "output_type": "stream",
     "text": [
      "+-------+-----------+\n",
      "|airport|cancel_rate|\n",
      "+-------+-----------+\n",
      "|    OGS|      14.29|\n",
      "|    PGV|       9.73|\n",
      "|    HVN|       8.98|\n",
      "|    OAJ|       8.55|\n",
      "|    ILM|       8.13|\n",
      "+-------+-----------+\n",
      "only showing top 5 rows\n",
      "\n"
     ]
    }
   ],
   "source": [
    "df_atrasos_taxa = df_atrasos.groupBy(\"airport\").agg(\n",
    "    round((sum(\"arr_cancelled\") / sum(\"arr_flights\") * 100), 2).alias(\"cancel_rate\")\n",
    ")\n",
    "df_atrasos_taxa = df_atrasos_taxa.orderBy(\"cancel_rate\", ascending=False)\n",
    "df_atrasos_taxa.show(5)"
   ]
  },
  {
   "cell_type": "code",
   "execution_count": 15,
   "id": "8593f9a9-fb98-417c-845d-6f82b9318726",
   "metadata": {},
   "outputs": [
    {
     "name": "stdout",
     "output_type": "stream",
     "text": [
      "+----+---------+\n",
      "|dest|avg_price|\n",
      "+----+---------+\n",
      "| ADK|    622.5|\n",
      "| PPG|   613.56|\n",
      "| PHF|    507.0|\n",
      "| GST|   397.56|\n",
      "| EGE|   381.17|\n",
      "+----+---------+\n",
      "only showing top 5 rows\n",
      "\n"
     ]
    }
   ],
   "source": [
    "df_voos_preco = df_voos.groupBy(\"dest\").agg(\n",
    "    round(avg(\"priceperticket\"), 2).alias(\"avg_price\")\n",
    ")\n",
    "df_voos_preco = df_voos_preco.orderBy(\"avg_price\", ascending=False)\n",
    "df_voos_preco.show(5)"
   ]
  },
  {
   "cell_type": "code",
   "execution_count": 16,
   "id": "02303936-6c2a-402c-93ed-deaba24734cb",
   "metadata": {},
   "outputs": [
    {
     "name": "stdout",
     "output_type": "stream",
     "text": [
      "+----+---------+-----------+\n",
      "|dest|avg_price|cancel_rate|\n",
      "+----+---------+-----------+\n",
      "| ADK|    622.5|        0.0|\n",
      "| PPG|   613.56|        0.0|\n",
      "| PHF|    507.0|       2.52|\n",
      "| GST|   397.56|       3.57|\n",
      "| EGE|   381.17|       0.77|\n",
      "+----+---------+-----------+\n",
      "only showing top 5 rows\n",
      "\n"
     ]
    }
   ],
   "source": [
    "df_comb = df_voos_preco.join(df_atrasos_taxa, df_voos_preco.dest == df_atrasos_taxa.airport, \"inner\")\n",
    "\n",
    "df_comb = df_comb.drop(\"airport\")\n",
    "df_comb = df_comb.orderBy(\"avg_price\", ascending=False)\n",
    "df_comb.show(5)"
   ]
  },
  {
   "cell_type": "markdown",
   "id": "f4a3d34a-0dd3-48e1-a732-1351cebb967d",
   "metadata": {},
   "source": [
    "#### Número de Voos por Origem vs. Taxa de Cancelamento por Aeroporto"
   ]
  },
  {
   "cell_type": "code",
   "execution_count": 17,
   "id": "82736ac2-6c42-4c46-b05d-ef36399bcf52",
   "metadata": {},
   "outputs": [
    {
     "name": "stdout",
     "output_type": "stream",
     "text": [
      "+------+-----------+\n",
      "|origin|num_flights|\n",
      "+------+-----------+\n",
      "|   PSE|         80|\n",
      "|   DLG|          9|\n",
      "|   MSY|       2661|\n",
      "|   PPG|          8|\n",
      "|   GEG|        522|\n",
      "+------+-----------+\n",
      "only showing top 5 rows\n",
      "\n"
     ]
    }
   ],
   "source": [
    "df_voos_count = df_voos.groupBy(\"origin\").agg(\n",
    "    count(\"*\").alias(\"num_flights\")\n",
    ")\n",
    "df_voos_count.show(5)"
   ]
  },
  {
   "cell_type": "code",
   "execution_count": 18,
   "id": "89c33a33-aa4d-496d-a4ae-675c8add5bcf",
   "metadata": {},
   "outputs": [
    {
     "name": "stdout",
     "output_type": "stream",
     "text": [
      "+------+-----------+-----------+\n",
      "|origin|num_flights|cancel_rate|\n",
      "+------+-----------+-----------+\n",
      "|   OGS|         10|      14.29|\n",
      "|   ILM|         43|       8.13|\n",
      "|   FAY|          9|       5.53|\n",
      "|   DLG|          9|       5.36|\n",
      "|   CHS|        797|       5.33|\n",
      "+------+-----------+-----------+\n",
      "only showing top 5 rows\n",
      "\n"
     ]
    }
   ],
   "source": [
    "df_comb_voos_canc = df_voos_count.join(df_atrasos_taxa, df_voos_count.origin == df_atrasos_taxa.airport, \"inner\")\n",
    "\n",
    "df_comb_voos_canc = df_comb_voos_canc.drop(\"airport\")\n",
    "df_comb_voos_canc = df_comb_voos_canc.orderBy(\"cancel_rate\", ascending=False)\n",
    "df_comb_voos_canc.show(5)"
   ]
  },
  {
   "cell_type": "markdown",
   "id": "8ce041ba-b1f1-48fb-9070-2c6691efb0c6",
   "metadata": {},
   "source": [
    "#### Média de Atraso por Aeroporto vs. Distância Média por Origem"
   ]
  },
  {
   "cell_type": "code",
   "execution_count": 19,
   "id": "701022b1-c4f0-4fb2-aae6-71c7b39d26ad",
   "metadata": {},
   "outputs": [
    {
     "name": "stdout",
     "output_type": "stream",
     "text": [
      "+-------+-------------+\n",
      "|airport|avg_arr_delay|\n",
      "+-------+-------------+\n",
      "|    ORD|      40906.1|\n",
      "|    SFO|     31594.54|\n",
      "|    DFW|     30801.33|\n",
      "|    JFK|     30062.08|\n",
      "|    EWR|     27305.18|\n",
      "+-------+-------------+\n",
      "only showing top 5 rows\n",
      "\n"
     ]
    }
   ],
   "source": [
    "df_atrasos_delay = df_atrasos.groupBy(\"airport\").agg(\n",
    "    round(avg(\"arr_delay\"), 2).alias(\"avg_arr_delay\")\n",
    ")\n",
    "\n",
    "df_atrasos_delay = df_atrasos_delay.orderBy(\"avg_arr_delay\", ascending=False)\n",
    "df_atrasos_delay.show(5)"
   ]
  },
  {
   "cell_type": "code",
   "execution_count": 20,
   "id": "bd557747-1fd1-421c-b98d-4162aca251e6",
   "metadata": {},
   "outputs": [
    {
     "name": "stdout",
     "output_type": "stream",
     "text": [
      "+------+------------+\n",
      "|origin|avg_distance|\n",
      "+------+------------+\n",
      "|   PPG|      2599.0|\n",
      "|   HNL|     2520.66|\n",
      "|   OGG|     2195.47|\n",
      "|   KOA|     2030.66|\n",
      "|   LIH|     2027.98|\n",
      "+------+------------+\n",
      "only showing top 5 rows\n",
      "\n"
     ]
    }
   ],
   "source": [
    "df_voos_distance = df_voos.groupBy(\"origin\").agg(\n",
    "    round(avg(\"miles\"), 2).alias(\"avg_distance\")\n",
    ")\n",
    "\n",
    "df_voos_distance = df_voos_distance.orderBy(\"avg_distance\", ascending=False)\n",
    "df_voos_distance.show(5)"
   ]
  },
  {
   "cell_type": "code",
   "execution_count": 21,
   "id": "b050cfad-a67c-4f83-b43d-3ff6a7acb1bf",
   "metadata": {},
   "outputs": [
    {
     "name": "stdout",
     "output_type": "stream",
     "text": [
      "+------+------------+-------------+\n",
      "|origin|avg_distance|avg_arr_delay|\n",
      "+------+------------+-------------+\n",
      "|   PPG|      2599.0|         26.0|\n",
      "|   HNL|     2520.66|      4457.86|\n",
      "|   OGG|     2195.47|      2238.64|\n",
      "|   KOA|     2030.66|       990.86|\n",
      "|   LIH|     2027.98|       842.29|\n",
      "+------+------------+-------------+\n",
      "only showing top 5 rows\n",
      "\n"
     ]
    }
   ],
   "source": [
    "df_comb_distance_delay = df_voos_distance.join(df_atrasos_delay, df_voos_distance.origin == df_atrasos_delay.airport, \"inner\")\n",
    "\n",
    "df_comb_distance_delay = df_comb_distance_delay.orderBy(\"avg_distance\", ascending=False)\n",
    "df_comb_distance_delay.select(\"origin\", \"avg_distance\", \"avg_arr_delay\").show(5)"
   ]
  },
  {
   "cell_type": "markdown",
   "id": "666c1430-6e81-4388-8d77-07b15458a6c7",
   "metadata": {},
   "source": [
    "**Especie de dashboard**"
   ]
  },
  {
   "cell_type": "code",
   "execution_count": 41,
   "id": "50196e26-7fad-4718-9d73-4fddca06e399",
   "metadata": {},
   "outputs": [
    {
     "data": {
      "image/png": "[encoded data removed]",
      "text/plain": [
       "<Figure size 800x500 with 1 Axes>"
      ]
     },
     "metadata": {},
     "output_type": "display_data"
    },
    {
     "data": {
      "image/png": "[encoded data removed]",
      "text/plain": [
       "<Figure size 800x500 with 1 Axes>"
      ]
     },
     "metadata": {},
     "output_type": "display_data"
    },
    {
     "name": "stdout",
     "output_type": "stream",
     "text": [
      "+----+------------+\n",
      "|Dest|AveragePrice|\n",
      "+----+------------+\n",
      "| EWR|      277.48|\n",
      "| DFW|      259.76|\n",
      "| SFO|      294.81|\n",
      "| ATL|      238.68|\n",
      "| ORD|      249.66|\n",
      "+----+------------+\n",
      "\n",
      "+------+-----------+\n",
      "|origin|num_flights|\n",
      "+------+-----------+\n",
      "|   PSE|         80|\n",
      "|   DLG|          9|\n",
      "|   MSY|       2661|\n",
      "|   PPG|          8|\n",
      "|   GEG|        522|\n",
      "+------+-----------+\n",
      "only showing top 5 rows\n",
      "\n",
      "+------+------------+-------------+\n",
      "|origin|avg_distance|avg_arr_delay|\n",
      "+------+------------+-------------+\n",
      "|   PPG|      2599.0|         26.0|\n",
      "|   HNL|     2520.66|      4457.86|\n",
      "|   OGG|     2195.47|      2238.64|\n",
      "|   KOA|     2030.66|       990.86|\n",
      "|   LIH|     2027.98|       842.29|\n",
      "+------+------------+-------------+\n",
      "only showing top 5 rows\n",
      "\n"
     ]
    }
   ],
   "source": [
    "plt.figure(figsize=(8, 5))\n",
    "plt.bar(top5_delays_pandas[\"airport\"], top5_delays_pandas[\"total_delays\"], color=\"skyblue\")\n",
    "plt.xlabel(\"Aeroporto\")\n",
    "plt.ylabel(\"Atrasos (15 minutos ou mais)\")\n",
    "plt.title(\"Top 5 Aeroportos com Mais Atrasos de 15+ mins\")\n",
    "plt.show()\n",
    "\n",
    "\n",
    "plt.figure(figsize=(8, 5))\n",
    "plt.bar(top_cancelled_pandas[\"airport\"], top_cancelled_pandas[\"cancelled_percentage\"], color=\"orange\")\n",
    "plt.xlabel(\"Aeroporto\")\n",
    "plt.ylabel(\"Percentual de Cancelamentos (%)\")\n",
    "plt.title(\"Top Aeroportos com Maior Percentagem de cancelamentos\")\n",
    "plt.show()\n",
    "\n",
    "average_prices.show()\n",
    "df_voos_count.show(5)\n",
    "df_comb_distance_delay.select(\"origin\", \"avg_distance\", \"avg_arr_delay\").show(5)"
   ]
  }
 ],
 "metadata": {
  "kernelspec": {
   "display_name": "Python 3 (ipykernel)",
   "language": "python",
   "name": "python3"
  },
  "language_info": {
   "codemirror_mode": {
    "name": "ipython",
    "version": 3
   },
   "file_extension": ".py",
   "mimetype": "text/x-python",
   "name": "python",
   "nbconvert_exporter": "python",
   "pygments_lexer": "ipython3",
   "version": "3.11.6"
  }
 },
 "nbformat": 4,
 "nbformat_minor": 5
}

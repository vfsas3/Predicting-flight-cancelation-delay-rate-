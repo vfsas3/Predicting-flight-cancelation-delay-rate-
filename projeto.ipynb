{
 "cells": [
  {
   "cell_type": "markdown",
   "id": "87b7a447-8dd8-4381-9adf-b48224bab51e",
   "metadata": {},
   "source": [
    "### 1. Recolha e Preparação de dados"
   ]
  },
  {
   "cell_type": "code",
   "execution_count": 1,
   "id": "1e493688-f041-4d08-9856-16e40f3c920d",
   "metadata": {},
   "outputs": [
    {
     "name": "stdout",
     "output_type": "stream",
     "text": [
      "{'_id': ObjectId('676ed62b177c65a442d95605'), 'year': 2023, 'month': 8, 'carrier': '9E', 'carrier_name': 'Endeavor Air Inc.', 'airport': 'ABE', 'airport_name': 'Allentown/Bethlehem/Easton, PA: Lehigh Valley International', 'arr_flights': 89.0, 'arr_del15': 13.0, 'carrier_ct': 2.25, 'weather_ct': 1.6, 'nas_ct': 3.16, 'security_ct': 0.0, 'late_aircraft_ct': 5.99, 'arr_cancelled': 2.0, 'arr_diverted': 1.0, 'arr_delay': 1375.0, 'carrier_delay': 71.0, 'weather_delay': 761.0, 'nas_delay': 118.0, 'security_delay': 0.0, 'late_aircraft_delay': 425.0}\n",
      "{'_id': ObjectId('676ef5e70a6bf8a76f22671a'), 'Unnamed: 0': 6256560, 'ItinID': 201835057271, 'MktID': 20183505727101, 'MktCoupons': 1, 'Quarter': 3, 'Origin': 'MCO', 'OriginWac': 33, 'Dest': 'BWI', 'DestWac': 35, 'Miles': 787.0, 'ContiguousUSA': 2, 'NumTicketsOrdered': 2.0, 'AirlineCompany': 'WN', 'PricePerTicket': 96.0}\n"
     ]
    }
   ],
   "source": [
    "from pymongo import MongoClient\n",
    "from pyspark.sql import SparkSession\n",
    "from pyspark.sql.functions import *\n",
    "from pyspark.sql import functions as F\n",
    "\n",
    "client = MongoClient('mongodb://mongodb:27017/')\n",
    "db = client.projeto\n",
    "c_atrasos = db.atrasos\n",
    "c_voos = db.voos\n",
    "\n",
    "print(c_atrasos.find_one())\n",
    "print(c_voos.find_one())\n",
    "\n",
    "client.close()"
   ]
  },
  {
   "cell_type": "code",
   "execution_count": 2,
   "id": "34e75117-d379-43cf-95a1-6f10fca62272",
   "metadata": {},
   "outputs": [],
   "source": [
    "spark = SparkSession.builder \\\n",
    "    .appName(\"Voos e atrasos em 2018\") \\\n",
    "    .config(\"spark.mongodb.input.uri\", \"mongodb://mongodb:27017/projeto\") \\\n",
    "    .config(\"spark.mongodb.output.uri\", \"mongodb://mongodb:27017/projeto\") \\\n",
    "    .getOrCreate()\n",
    "\n",
    "df_atrasos = spark.read.format(\"mongo\").option(\"collection\", \"atrasos\").load()\n",
    "df_voos = spark.read.format(\"mongo\").option(\"collection\", \"voos\").load()"
   ]
  },
  {
   "cell_type": "code",
   "execution_count": 3,
   "id": "6b89e595-88fb-404a-9f56-e763eb0608c9",
   "metadata": {},
   "outputs": [
    {
     "name": "stdout",
     "output_type": "stream",
     "text": [
      "root\n",
      " |-- _id: struct (nullable = true)\n",
      " |    |-- oid: string (nullable = true)\n",
      " |-- airport: string (nullable = true)\n",
      " |-- airport_name: string (nullable = true)\n",
      " |-- arr_cancelled: double (nullable = true)\n",
      " |-- arr_del15: double (nullable = true)\n",
      " |-- arr_delay: double (nullable = true)\n",
      " |-- arr_diverted: double (nullable = true)\n",
      " |-- arr_flights: double (nullable = true)\n",
      " |-- carrier: string (nullable = true)\n",
      " |-- carrier_ct: double (nullable = true)\n",
      " |-- carrier_delay: double (nullable = true)\n",
      " |-- carrier_name: string (nullable = true)\n",
      " |-- late_aircraft_ct: double (nullable = true)\n",
      " |-- late_aircraft_delay: double (nullable = true)\n",
      " |-- month: integer (nullable = true)\n",
      " |-- nas_ct: double (nullable = true)\n",
      " |-- nas_delay: double (nullable = true)\n",
      " |-- security_ct: double (nullable = true)\n",
      " |-- security_delay: double (nullable = true)\n",
      " |-- weather_ct: double (nullable = true)\n",
      " |-- weather_delay: double (nullable = true)\n",
      " |-- year: integer (nullable = true)\n",
      "\n",
      "None\n",
      "root\n",
      " |-- AirlineCompany: string (nullable = true)\n",
      " |-- ContiguousUSA: integer (nullable = true)\n",
      " |-- Dest: string (nullable = true)\n",
      " |-- DestWac: integer (nullable = true)\n",
      " |-- ItinID: long (nullable = true)\n",
      " |-- Miles: double (nullable = true)\n",
      " |-- MktCoupons: integer (nullable = true)\n",
      " |-- MktID: long (nullable = true)\n",
      " |-- NumTicketsOrdered: double (nullable = true)\n",
      " |-- Origin: string (nullable = true)\n",
      " |-- OriginWac: integer (nullable = true)\n",
      " |-- PricePerTicket: double (nullable = true)\n",
      " |-- Quarter: integer (nullable = true)\n",
      " |-- Unnamed: 0: integer (nullable = true)\n",
      " |-- _id: struct (nullable = true)\n",
      " |    |-- oid: string (nullable = true)\n",
      "\n",
      "None\n"
     ]
    }
   ],
   "source": [
    "print(df_atrasos.printSchema())\n",
    "print(df_voos.printSchema())"
   ]
  },
  {
   "cell_type": "code",
   "execution_count": 4,
   "id": "c8ec64bf-46ce-492a-8783-7bd573777413",
   "metadata": {},
   "outputs": [
    {
     "name": "stdout",
     "output_type": "stream",
     "text": [
      "+-------+-------------+---------+---------+------------+-----------+----------+-------------+------------+----------------+-------------------+-----+------+---------+-----------+--------------+----------+----+\n",
      "|airport|arr_cancelled|arr_del15|arr_delay|arr_diverted|arr_flights|carrier_ct|carrier_delay|carrier_name|late_aircraft_ct|late_aircraft_delay|month|nas_ct|nas_delay|security_ct|security_delay|weather_ct|year|\n",
      "+-------+-------------+---------+---------+------------+-----------+----------+-------------+------------+----------------+-------------------+-----+------+---------+-----------+--------------+----------+----+\n",
      "|      0|            0|        0|        0|           0|          0|         0|            0|           0|               0|                  0|    0|     0|        0|          0|             0|         0|   0|\n",
      "+-------+-------------+---------+---------+------------+-----------+----------+-------------+------------+----------------+-------------------+-----+------+---------+-----------+--------------+----------+----+\n",
      "\n"
     ]
    }
   ],
   "source": [
    "df_atrasos = df_atrasos.drop(\"carrier\",\"airport_name\",\"FLIGHT_NUM\",\"ORIGIN_SEQ_ID\",\"DEST_SEQ_ID\",\"DEP_TIME\",\"ARR_TIME\",\"WEATHER_DELAY\", \"_id\")\n",
    "df_atrasos = df_atrasos.filter(df_atrasos[\"year\"] == 2018)\n",
    "\n",
    "df_atrasos = df_atrasos.dropna()\n",
    "\n",
    "df_atrasos = df_atrasos.dropDuplicates()\n",
    "\n",
    "null_atrasos = df_atrasos.select([count(when(col(c).isNull(), c)).alias(c) for c in df_atrasos.columns])\n",
    "\n",
    "null_atrasos.show()"
   ]
  },
  {
   "cell_type": "code",
   "execution_count": 5,
   "id": "4cda0005-e973-434c-9b0e-fe177b964053",
   "metadata": {},
   "outputs": [
    {
     "name": "stdout",
     "output_type": "stream",
     "text": [
      "+----+-------+-----+------+---------+--------------+-------+\n",
      "|Dest|DestWac|Miles|Origin|OriginWac|PricePerTicket|Quarter|\n",
      "+----+-------+-----+------+---------+--------------+-------+\n",
      "|   0|      0|    0|     0|        0|             0|      0|\n",
      "+----+-------+-----+------+---------+--------------+-------+\n",
      "\n"
     ]
    }
   ],
   "source": [
    "df_voos = df_voos.drop(\"ItinID\",\"MktID\",\"MktCoupons\",\"ContiguousUSA\",\"NumTicketsOrdered\",\"AirlineCompany\", \"_id\", \"Unnamed: 0\")\n",
    "\n",
    "df_voos = df_voos.dropna()\n",
    "\n",
    "df_voos = df_voos.dropDuplicates()\n",
    "\n",
    "null_voos = df_voos.select([count(when(col(c).isNull(), c)).alias(c) for c in df_voos.columns])\n",
    "\n",
    "null_voos.show()"
   ]
  }
 ],
 "metadata": {
  "kernelspec": {
   "display_name": "Python 3 (ipykernel)",
   "language": "python",
   "name": "python3"
  },
  "language_info": {
   "codemirror_mode": {
    "name": "ipython",
    "version": 3
   },
   "file_extension": ".py",
   "mimetype": "text/x-python",
   "name": "python",
   "nbconvert_exporter": "python",
   "pygments_lexer": "ipython3",
   "version": "3.11.6"
  }
 },
 "nbformat": 4,
 "nbformat_minor": 5
}

{
 "cells": [
  {
   "cell_type": "markdown",
   "id": "87b7a447-8dd8-4381-9adf-b48224bab51e",
   "metadata": {},
   "source": [
    "### 1. Recolha e Preparação de dados"
   ]
  },
  {
   "cell_type": "code",
   "execution_count": 1,
   "id": "1e493688-f041-4d08-9856-16e40f3c920d",
   "metadata": {},
   "outputs": [
    {
     "name": "stdout",
     "output_type": "stream",
     "text": [
      "{'_id': ObjectId('676ed62b177c65a442d95605'), 'year': 2023, 'month': 8, 'carrier': '9E', 'carrier_name': 'Endeavor Air Inc.', 'airport': 'ABE', 'airport_name': 'Allentown/Bethlehem/Easton, PA: Lehigh Valley International', 'arr_flights': 89.0, 'arr_del15': 13.0, 'carrier_ct': 2.25, 'weather_ct': 1.6, 'nas_ct': 3.16, 'security_ct': 0.0, 'late_aircraft_ct': 5.99, 'arr_cancelled': 2.0, 'arr_diverted': 1.0, 'arr_delay': 1375.0, 'carrier_delay': 71.0, 'weather_delay': 761.0, 'nas_delay': 118.0, 'security_delay': 0.0, 'late_aircraft_delay': 425.0}\n",
      "{'_id': ObjectId('676ef5e70a6bf8a76f22671a'), 'Unnamed: 0': 6256560, 'ItinID': 201835057271, 'MktID': 20183505727101, 'MktCoupons': 1, 'Quarter': 3, 'Origin': 'MCO', 'OriginWac': 33, 'Dest': 'BWI', 'DestWac': 35, 'Miles': 787.0, 'ContiguousUSA': 2, 'NumTicketsOrdered': 2.0, 'AirlineCompany': 'WN', 'PricePerTicket': 96.0}\n"
     ]
    }
   ],
   "source": [
    "from pymongo import MongoClient\n",
    "from pyspark.sql import SparkSession\n",
    "from pyspark.sql.functions import *\n",
    "from pyspark.sql import functions as F\n",
    "from pyspark.sql.window import *\n",
    "import pandas as pd\n",
    "import matplotlib.pyplot as plt\n",
    "\n",
    "client = MongoClient('mongodb://mongodb:27017/')\n",
    "db = client.projeto\n",
    "c_atrasos = db.atrasos\n",
    "c_voos = db.voos\n",
    "\n",
    "print(c_atrasos.find_one())\n",
    "print(c_voos.find_one())\n",
    "\n",
    "client.close()"
   ]
  },
  {
   "cell_type": "code",
   "execution_count": 2,
   "id": "34e75117-d379-43cf-95a1-6f10fca62272",
   "metadata": {},
   "outputs": [],
   "source": [
    "spark = SparkSession.builder \\\n",
    "    .appName(\"Voos e atrasos em 2018\") \\\n",
    "    .config(\"spark.mongodb.input.uri\", \"mongodb://mongodb:27017/projeto\") \\\n",
    "    .config(\"spark.mongodb.output.uri\", \"mongodb://mongodb:27017/projeto\") \\\n",
    "    .getOrCreate()\n",
    "\n",
    "df_atrasos = spark.read.format(\"mongo\").option(\"collection\", \"atrasos\").load()\n",
    "df_voos = spark.read.format(\"mongo\").option(\"collection\", \"voos\").load()"
   ]
  },
  {
   "cell_type": "code",
   "execution_count": 3,
   "id": "6b89e595-88fb-404a-9f56-e763eb0608c9",
   "metadata": {},
   "outputs": [
    {
     "name": "stdout",
     "output_type": "stream",
     "text": [
      "root\n",
      " |-- _id: struct (nullable = true)\n",
      " |    |-- oid: string (nullable = true)\n",
      " |-- airport: string (nullable = true)\n",
      " |-- airport_name: string (nullable = true)\n",
      " |-- arr_cancelled: double (nullable = true)\n",
      " |-- arr_del15: double (nullable = true)\n",
      " |-- arr_delay: double (nullable = true)\n",
      " |-- arr_diverted: double (nullable = true)\n",
      " |-- arr_flights: double (nullable = true)\n",
      " |-- carrier: string (nullable = true)\n",
      " |-- carrier_ct: double (nullable = true)\n",
      " |-- carrier_delay: double (nullable = true)\n",
      " |-- carrier_name: string (nullable = true)\n",
      " |-- late_aircraft_ct: double (nullable = true)\n",
      " |-- late_aircraft_delay: double (nullable = true)\n",
      " |-- month: integer (nullable = true)\n",
      " |-- nas_ct: double (nullable = true)\n",
      " |-- nas_delay: double (nullable = true)\n",
      " |-- security_ct: double (nullable = true)\n",
      " |-- security_delay: double (nullable = true)\n",
      " |-- weather_ct: double (nullable = true)\n",
      " |-- weather_delay: double (nullable = true)\n",
      " |-- year: integer (nullable = true)\n",
      "\n",
      "None\n",
      "root\n",
      " |-- AirlineCompany: string (nullable = true)\n",
      " |-- ContiguousUSA: integer (nullable = true)\n",
      " |-- Dest: string (nullable = true)\n",
      " |-- DestWac: integer (nullable = true)\n",
      " |-- ItinID: long (nullable = true)\n",
      " |-- Miles: double (nullable = true)\n",
      " |-- MktCoupons: integer (nullable = true)\n",
      " |-- MktID: long (nullable = true)\n",
      " |-- NumTicketsOrdered: double (nullable = true)\n",
      " |-- Origin: string (nullable = true)\n",
      " |-- OriginWac: integer (nullable = true)\n",
      " |-- PricePerTicket: double (nullable = true)\n",
      " |-- Quarter: integer (nullable = true)\n",
      " |-- Unnamed: 0: integer (nullable = true)\n",
      " |-- _id: struct (nullable = true)\n",
      " |    |-- oid: string (nullable = true)\n",
      "\n",
      "None\n"
     ]
    }
   ],
   "source": [
    "print(df_atrasos.printSchema())\n",
    "print(df_voos.printSchema())"
   ]
  },
  {
   "cell_type": "code",
   "execution_count": 4,
   "id": "c8ec64bf-46ce-492a-8783-7bd573777413",
   "metadata": {},
   "outputs": [
    {
     "name": "stdout",
     "output_type": "stream",
     "text": [
      "+-------+-------------+---------+---------+------------+-----------+----------+-------------+------------+----------------+-------------------+-----+------+---------+-----------+--------------+----------+----+\n",
      "|airport|arr_cancelled|arr_del15|arr_delay|arr_diverted|arr_flights|carrier_ct|carrier_delay|carrier_name|late_aircraft_ct|late_aircraft_delay|month|nas_ct|nas_delay|security_ct|security_delay|weather_ct|year|\n",
      "+-------+-------------+---------+---------+------------+-----------+----------+-------------+------------+----------------+-------------------+-----+------+---------+-----------+--------------+----------+----+\n",
      "|      0|            0|        0|        0|           0|          0|         0|            0|           0|               0|                  0|    0|     0|        0|          0|             0|         0|   0|\n",
      "+-------+-------------+---------+---------+------------+-----------+----------+-------------+------------+----------------+-------------------+-----+------+---------+-----------+--------------+----------+----+\n",
      "\n"
     ]
    }
   ],
   "source": [
    "df_atrasos = df_atrasos.drop(\"carrier\",\"airport_name\",\"FLIGHT_NUM\",\"ORIGIN_SEQ_ID\",\"DEST_SEQ_ID\",\"DEP_TIME\",\"ARR_TIME\",\"WEATHER_DELAY\", \"_id\")\n",
    "df_atrasos = df_atrasos.filter(df_atrasos[\"year\"] == 2018)\n",
    "df_atrasos = df_atrasos.filter((df_atrasos[\"month\"] >= 7) & (df_atrasos[\"month\"] <= 9))\n",
    "\n",
    "df_atrasos = df_atrasos.dropna()\n",
    "\n",
    "df_atrasos = df_atrasos.dropDuplicates()\n",
    "\n",
    "null_atrasos = df_atrasos.select([count(when(col(c).isNull(), c)).alias(c) for c in df_atrasos.columns])\n",
    "\n",
    "null_atrasos.show()"
   ]
  },
  {
   "cell_type": "code",
   "execution_count": 5,
   "id": "4cda0005-e973-434c-9b0e-fe177b964053",
   "metadata": {},
   "outputs": [
    {
     "name": "stdout",
     "output_type": "stream",
     "text": [
      "+----+-------+-----+------+---------+--------------+-------+\n",
      "|Dest|DestWac|Miles|Origin|OriginWac|PricePerTicket|Quarter|\n",
      "+----+-------+-----+------+---------+--------------+-------+\n",
      "|   0|      0|    0|     0|        0|             0|      0|\n",
      "+----+-------+-----+------+---------+--------------+-------+\n",
      "\n"
     ]
    }
   ],
   "source": [
    "df_voos = df_voos.drop(\"ItinID\",\"MktID\",\"MktCoupons\",\"ContiguousUSA\",\"NumTicketsOrdered\",\"AirlineCompany\", \"_id\", \"Unnamed: 0\")\n",
    "\n",
    "df_voos = df_voos.dropna()\n",
    "\n",
    "df_voos = df_voos.dropDuplicates()\n",
    "\n",
    "null_voos = df_voos.select([count(when(col(c).isNull(), c)).alias(c) for c in df_voos.columns])\n",
    "\n",
    "null_voos.show()"
   ]
  },
  {
   "cell_type": "code",
   "execution_count": 6,
   "id": "95131e3f-a4a7-4cf6-8430-813a4d4ec565",
   "metadata": {},
   "outputs": [],
   "source": [
    "df_atrasos = df_atrasos.withColumn(\"index\", monotonically_increasing_id())\n",
    "\n",
    "window_spec = Window.orderBy(\"airport\")\n",
    "\n",
    "df_atrasos = df_atrasos.withColumn(\"index\", row_number().over(window_spec) - 1)"
   ]
  },
  {
   "cell_type": "markdown",
   "id": "c6c9e5d0-d82f-451a-9e3f-fdd01f0871e2",
   "metadata": {},
   "source": [
    "### 2. Análise exploratória"
   ]
  },
  {
   "cell_type": "markdown",
   "id": "7d39694e-da22-4200-8da2-78669a88f571",
   "metadata": {},
   "source": [
    "#### Aeroportos com mais atrasos de 15+ minutos"
   ]
  },
  {
   "cell_type": "code",
   "execution_count": 7,
   "id": "504e6f5f-8098-4d8d-9cbf-af39024b2525",
   "metadata": {},
   "outputs": [
    {
     "name": "stdout",
     "output_type": "stream",
     "text": [
      "+-------+------------+\n",
      "|airport|total_delays|\n",
      "+-------+------------+\n",
      "|    ORD|     19543.0|\n",
      "|    ATL|     15905.0|\n",
      "|    DFW|     15661.0|\n",
      "|    EWR|     11931.0|\n",
      "|    SFO|     11763.0|\n",
      "+-------+------------+\n",
      "\n"
     ]
    }
   ],
   "source": [
    "top5_delays = (\n",
    "    df_atrasos.groupBy(\"airport\")\n",
    "    .agg(sum(\"arr_del15\").alias(\"total_delays\"))\n",
    "    .orderBy(col(\"total_delays\").desc())\n",
    "    .limit(5)\n",
    ")\n",
    "\n",
    "top5_delays.show()"
   ]
  },
  {
   "cell_type": "code",
   "execution_count": 8,
   "id": "c7c85607-0877-4b1d-bc8f-408edf088f03",
   "metadata": {},
   "outputs": [
    {
     "data": {
      "image/png": "[encoded data removed]",
      "text/plain": [
       "<Figure size 800x500 with 1 Axes>"
      ]
     },
     "metadata": {},
     "output_type": "display_data"
    }
   ],
   "source": [
    "top5_delays_pandas = top5_delays.toPandas()\n",
    "\n",
    "plt.figure(figsize=(8, 5))\n",
    "plt.bar(top5_delays_pandas[\"airport\"], top5_delays_pandas[\"total_delays\"], color=\"skyblue\")\n",
    "plt.xlabel(\"Aeroporto\")\n",
    "plt.ylabel(\"Atrasos (15 minutos ou mais)\")\n",
    "plt.title(\"Top 5 Aeroportos com Mais Atrasos\")\n",
    "plt.show()"
   ]
  },
  {
   "cell_type": "markdown",
   "id": "485d3cf8-5b16-4d1d-9eff-6ce667e177aa",
   "metadata": {},
   "source": [
    "#### Média de preços para os aeroportos com mais atrasos"
   ]
  },
  {
   "cell_type": "code",
   "execution_count": 9,
   "id": "1db952b8-b783-4732-bced-f00e302f4cb8",
   "metadata": {},
   "outputs": [
    {
     "name": "stdout",
     "output_type": "stream",
     "text": [
      "+----+------------------+\n",
      "|Dest|      AveragePrice|\n",
      "+----+------------------+\n",
      "| EWR|277.47552649116955|\n",
      "| DFW|259.76284489863195|\n",
      "| SFO| 294.8108275042893|\n",
      "| ATL|238.67692741935485|\n",
      "| ORD|249.66102115434853|\n",
      "+----+------------------+\n",
      "\n"
     ]
    }
   ],
   "source": [
    "most_delayed_airports = [row[\"airport\"] for row in top5_delays.collect()]\n",
    "\n",
    "filtered_df = df_voos.filter(df_voos[\"Dest\"].isin(most_delayed_airports))\n",
    "\n",
    "average_prices = (\n",
    "    filtered_df.groupBy(\"Dest\")\n",
    "    .agg(avg(\"PricePerTicket\").alias(\"AveragePrice\"))\n",
    ")\n",
    "\n",
    "average_prices.show()"
   ]
  },
  {
   "cell_type": "markdown",
   "id": "d88bba4b-83ec-4bd7-9d7b-08d01b9504a5",
   "metadata": {},
   "source": [
    "#### Aeroportos com mais voos cancelados por percentagem"
   ]
  },
  {
   "cell_type": "code",
   "execution_count": 10,
   "id": "2d8fc4e2-b231-4d1c-a375-f77182a3e30f",
   "metadata": {},
   "outputs": [
    {
     "name": "stdout",
     "output_type": "stream",
     "text": [
      "+-------+--------------------+\n",
      "|airport|cancelled_percentage|\n",
      "+-------+--------------------+\n",
      "|    OGS|  14.285714285714285|\n",
      "|    PGV|    9.72568578553616|\n",
      "|    HVN|            8.984375|\n",
      "|    OAJ|   8.551068883610451|\n",
      "|    ILM|    8.13424345847554|\n",
      "+-------+--------------------+\n",
      "\n"
     ]
    }
   ],
   "source": [
    "grouped = (\n",
    "    df_atrasos.groupBy(\"airport\")\n",
    "    .agg(\n",
    "        sum(\"arr_flights\").alias(\"total_flights\"),\n",
    "        sum(\"arr_cancelled\").alias(\"total_cancelled\")\n",
    "    )\n",
    ")\n",
    "\n",
    "grouped = grouped.withColumn(\n",
    "    \"cancelled_percentage\",\n",
    "    (col(\"total_cancelled\") / col(\"total_flights\")) * 100\n",
    ")\n",
    "\n",
    "top5_cancelled = grouped.orderBy(col(\"cancelled_percentage\").desc()).limit(5)\n",
    "\n",
    "top5_cancelled.select(\"airport\", \"cancelled_percentage\").show()"
   ]
  },
  {
   "cell_type": "code",
   "execution_count": null,
   "id": "f1f12259-5096-4eb0-803e-33e7ea04161e",
   "metadata": {},
   "outputs": [],
   "source": []
  }
 ],
 "metadata": {
  "kernelspec": {
   "display_name": "Python 3 (ipykernel)",
   "language": "python",
   "name": "python3"
  },
  "language_info": {
   "codemirror_mode": {
    "name": "ipython",
    "version": 3
   },
   "file_extension": ".py",
   "mimetype": "text/x-python",
   "name": "python",
   "nbconvert_exporter": "python",
   "pygments_lexer": "ipython3",
   "version": "3.11.6"
  }
 },
 "nbformat": 4,
 "nbformat_minor": 5
}
